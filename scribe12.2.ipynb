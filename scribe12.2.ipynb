{
 "cells": [
  {
   "cell_type": "markdown",
   "metadata": {},
   "source": [
    "# Confidence Interval of Model Parameter\n",
    "\n",
    "A confidence interval is a range of values which is expected, with some quantifiable degree of confidence, to contain the value of an unknown value of interest (Petty, 2012). For example, suppose a random sample of 1000 boxes of M&M'S Peanut Chocolate Candy is selected from among all of the boxes filled by an automatic filling machine. The mean count of the 1000 boxes in the sample is found to be 48 and the standard deviation to be 1. Using the procedures to be described in the lecture, we can calculate an interval [46.35, 49.65] for the mean count of all boxes filled at the station and associate a confidence level of 0.95 (95%) with that interval.1 We call the calculated interval [46.35, 49.65], together with its associated confidence level, a confidence interval.\n",
    "\n",
    "Here, we use a simple regression model to get the confidence interval by statsmodels package and hopefully to complement what professor taught by the boostrapping method."
   ]
  },
  {
   "cell_type": "code",
   "execution_count": 2,
   "metadata": {
    "collapsed": true
   },
   "outputs": [],
   "source": [
    "from pandas import DataFrame\n",
    "import statsmodels.api as sm\n",
    "import numpy as np\n",
    "from scipy import stats\n",
    "from scipy.stats import linregress\n",
    "import matplotlib.pyplot as plt"
   ]
  },
  {
   "cell_type": "markdown",
   "metadata": {},
   "source": [
    "Linear regression is used as a predictive model that assumes a linear relationship between the dependent variable (which is the variable we are trying to predict/estimate) and the independent variable/s (input variable/s used in the prediction).\n",
    "\n",
    "For example, you may use linear regression to predict the price of the stock market (your dependent variable) based on the following Macroeconomics input variables:\n",
    "\n",
    "Interest Rate\n",
    "Unemployment Rate\n",
    "\n",
    "Under Simple Linear Regression, only one independent/input variable is used to predict the dependent variable. It has the following structure:\n",
    "\n",
    "Y = C + M*X\n",
    "\n",
    "Y = Dependent variable (output/outcome/prediction/estimation)\n",
    "C = Constant (Y-Intercept)\n",
    "M = Slope of the regression line (the effect that X has on Y)\n",
    "X = Independent variable (input variable used in the prediction of Y)"
   ]
  },
  {
   "cell_type": "code",
   "execution_count": 3,
   "metadata": {},
   "outputs": [
    {
     "name": "stdout",
     "output_type": "stream",
     "text": [
      "                            OLS Regression Results                            \n",
      "==============================================================================\n",
      "Dep. Variable:      Stock_Index_Price   R-squared:                       0.898\n",
      "Model:                            OLS   Adj. R-squared:                  0.888\n",
      "Method:                 Least Squares   F-statistic:                     92.07\n",
      "Date:                Fri, 05 Apr 2019   Prob (F-statistic):           4.04e-11\n",
      "Time:                        16:50:41   Log-Likelihood:                -134.61\n",
      "No. Observations:                  24   AIC:                             275.2\n",
      "Df Residuals:                      21   BIC:                             278.8\n",
      "Df Model:                           2                                         \n",
      "Covariance Type:            nonrobust                                         \n",
      "=====================================================================================\n",
      "                        coef    std err          t      P>|t|      [0.025      0.975]\n",
      "-------------------------------------------------------------------------------------\n",
      "const              1798.4040    899.248      2.000      0.059     -71.685    3668.493\n",
      "Interest_Rate       345.5401    111.367      3.103      0.005     113.940     577.140\n",
      "Unemployment_Rate  -250.1466    117.950     -2.121      0.046    -495.437      -4.856\n",
      "==============================================================================\n",
      "Omnibus:                        2.691   Durbin-Watson:                   0.530\n",
      "Prob(Omnibus):                  0.260   Jarque-Bera (JB):                1.551\n",
      "Skew:                          -0.612   Prob(JB):                        0.461\n",
      "Kurtosis:                       3.226   Cond. No.                         394.\n",
      "==============================================================================\n",
      "\n",
      "Warnings:\n",
      "[1] Standard Errors assume that the covariance matrix of the errors is correctly specified.\n"
     ]
    }
   ],
   "source": [
    "Stock_Market = {'Year': [2017,2017,2017,2017,2017,2017,2017,2017,2017,2017,2017,2017,2016,2016,2016,2016,2016,2016,2016,2016,2016,2016,2016,2016],\n",
    "                'Month': [12, 11,10,9,8,7,6,5,4,3,2,1,12,11,10,9,8,7,6,5,4,3,2,1],\n",
    "                'Interest_Rate': [2.75,2.5,2.5,2.5,2.5,2.5,2.5,2.25,2.25,2.25,2,2,2,1.75,1.75,1.75,1.75,1.75,1.75,1.75,1.75,1.75,1.75,1.75],\n",
    "                'Unemployment_Rate': [5.3,5.3,5.3,5.3,5.4,5.6,5.5,5.5,5.5,5.6,5.7,5.9,6,5.9,5.8,6.1,6.2,6.1,6.1,6.1,5.9,6.2,6.2,6.1],\n",
    "                'Stock_Index_Price': [1464,1394,1357,1293,1256,1254,1234,1195,1159,1167,1130,1075,1047,965,943,958,971,949,884,866,876,822,704,719]        \n",
    "                }\n",
    "\n",
    "df = DataFrame(Stock_Market,columns=['Year','Month','Interest_Rate','Unemployment_Rate','Stock_Index_Price']) \n",
    "\n",
    "X = df[['Interest_Rate','Unemployment_Rate']] # here we have 2 variables for multiple regression. If you just want to use one variable for simple linear regression, then use X = df['Interest_Rate'] for example.Alternatively, you may add additional variables within the brackets\n",
    "Y = df['Stock_Index_Price']\n",
    "\n",
    "X = sm.add_constant(X) # adding a constant\n",
    "\n",
    "model = sm.OLS(Y, X).fit()\n",
    "predictions = model.predict(X) \n",
    "\n",
    "print_model = model.summary()\n",
    "print(print_model)"
   ]
  },
  {
   "cell_type": "markdown",
   "metadata": {},
   "source": [
    "We can see from the table above, there are three model parameters, they are constant term, Interest_Rate, Unemployment_Rate with the coefficient 1798.4040, 345.5401, -250.1466 and the 95% confidence interval [-71.685, 3668.493], [113.940, 577.140] and [-495.437, -4.856] respectively."
   ]
  },
  {
   "cell_type": "markdown",
   "metadata": {},
   "source": [
    "const coefficient means that if both the Interest_Rate and Unemployment_Rate coefficients are zero, then the expected output (i.e., the Y) would be equal to the const coefficient.Interest_Rate coefficient represents the change in the output Y due to a change of one unit in the interest rate. And lastly, unemployment_Rate coefficient represents the change in the output Y due to a change of one unit in the unemployment rate."
   ]
  },
  {
   "cell_type": "markdown",
   "metadata": {},
   "source": [
    "We can also find the confidence interval by the boostraping method as in the lecture note."
   ]
  },
  {
   "cell_type": "code",
   "execution_count": 4,
   "metadata": {},
   "outputs": [
    {
     "name": "stdout",
     "output_type": "stream",
     "text": [
      "(24, 5)\n"
     ]
    }
   ],
   "source": [
    "print(df.shape)"
   ]
  },
  {
   "cell_type": "code",
   "execution_count": 5,
   "metadata": {},
   "outputs": [
    {
     "data": {
      "text/html": [
       "<div>\n",
       "<style>\n",
       "    .dataframe thead tr:only-child th {\n",
       "        text-align: right;\n",
       "    }\n",
       "\n",
       "    .dataframe thead th {\n",
       "        text-align: left;\n",
       "    }\n",
       "\n",
       "    .dataframe tbody tr th {\n",
       "        vertical-align: top;\n",
       "    }\n",
       "</style>\n",
       "<table border=\"1\" class=\"dataframe\">\n",
       "  <thead>\n",
       "    <tr style=\"text-align: right;\">\n",
       "      <th></th>\n",
       "      <th>Year</th>\n",
       "      <th>Month</th>\n",
       "      <th>Interest_Rate</th>\n",
       "      <th>Unemployment_Rate</th>\n",
       "      <th>Stock_Index_Price</th>\n",
       "    </tr>\n",
       "  </thead>\n",
       "  <tbody>\n",
       "    <tr>\n",
       "      <th>7</th>\n",
       "      <td>2017</td>\n",
       "      <td>5</td>\n",
       "      <td>2.25</td>\n",
       "      <td>5.5</td>\n",
       "      <td>1195</td>\n",
       "    </tr>\n",
       "    <tr>\n",
       "      <th>1</th>\n",
       "      <td>2017</td>\n",
       "      <td>11</td>\n",
       "      <td>2.50</td>\n",
       "      <td>5.3</td>\n",
       "      <td>1394</td>\n",
       "    </tr>\n",
       "    <tr>\n",
       "      <th>20</th>\n",
       "      <td>2016</td>\n",
       "      <td>4</td>\n",
       "      <td>1.75</td>\n",
       "      <td>5.9</td>\n",
       "      <td>876</td>\n",
       "    </tr>\n",
       "    <tr>\n",
       "      <th>8</th>\n",
       "      <td>2017</td>\n",
       "      <td>4</td>\n",
       "      <td>2.25</td>\n",
       "      <td>5.5</td>\n",
       "      <td>1159</td>\n",
       "    </tr>\n",
       "    <tr>\n",
       "      <th>6</th>\n",
       "      <td>2017</td>\n",
       "      <td>6</td>\n",
       "      <td>2.50</td>\n",
       "      <td>5.5</td>\n",
       "      <td>1234</td>\n",
       "    </tr>\n",
       "  </tbody>\n",
       "</table>\n",
       "</div>"
      ],
      "text/plain": [
       "    Year  Month  Interest_Rate  Unemployment_Rate  Stock_Index_Price\n",
       "7   2017      5           2.25                5.5               1195\n",
       "1   2017     11           2.50                5.3               1394\n",
       "20  2016      4           1.75                5.9                876\n",
       "8   2017      4           2.25                5.5               1159\n",
       "6   2017      6           2.50                5.5               1234"
      ]
     },
     "execution_count": 5,
     "metadata": {},
     "output_type": "execute_result"
    }
   ],
   "source": [
    "df.sample(df.shape[0], replace=True).head()"
   ]
  },
  {
   "cell_type": "code",
   "execution_count": 6,
   "metadata": {},
   "outputs": [
    {
     "data": {
      "text/plain": [
       "([5070.9040000000005,\n",
       "  4461.1610000000001,\n",
       "  4742.5879999999997,\n",
       "  3727.384,\n",
       "  4486.549,\n",
       "  5306.6080000000002,\n",
       "  4775.9769999999999,\n",
       "  4900.4639999999999,\n",
       "  3976.038,\n",
       "  4472.0940000000001],\n",
       " [-689.71299999999997,\n",
       "  -590.10000000000002,\n",
       "  -634.83399999999995,\n",
       "  -456.49900000000002,\n",
       "  -588.01400000000001,\n",
       "  -730.51700000000005,\n",
       "  -641.81100000000004,\n",
       "  -663.928,\n",
       "  -499.66800000000001,\n",
       "  -588.82799999999997])"
      ]
     },
     "execution_count": 6,
     "metadata": {},
     "output_type": "execute_result"
    }
   ],
   "source": [
    "bootstrap_intercepts = []\n",
    "bootstrap_slopes = []\n",
    "\n",
    "for i in range(50000):\n",
    "    sample_indexes = np.random.choice(df.index, size=len(df.index))\n",
    "    bootstrap_sample = df.iloc[sample_indexes]\n",
    "    lr = linregress(bootstrap_sample[\"Unemployment_Rate\"], bootstrap_sample[\"Stock_Index_Price\"])    \n",
    "    bootstrap_intercepts.append(round(lr.intercept, 3))\n",
    "    bootstrap_slopes.append(round(lr.slope,3))\n",
    "\n",
    "    \n",
    "bootstrap_intercepts[:10], bootstrap_slopes[:10]"
   ]
  },
  {
   "cell_type": "code",
   "execution_count": 16,
   "metadata": {},
   "outputs": [
    {
     "data": {
      "text/plain": [
       "<matplotlib.collections.PathCollection at 0x1c202507f0>"
      ]
     },
     "execution_count": 16,
     "metadata": {},
     "output_type": "execute_result"
    }
   ],
   "source": [
    "plt.figure(figsize=(16,6))\n",
    "plt.scatter(df[\"Unemployment_Rate\"], df[\"Stock_Index_Price\"], alpha=0.2)\n",
    "\n",
    "x_axis = np.arange(-1000,0)\n",
    "\n",
    "for i in np.random.choice(range(5000), 1000, replace=False):\n",
    "    y_hat = bootstrap_intercepts[i] + bootstrap_slopes[i] * x_axis\n",
    "    plt.plot(x_axis, y_hat, color='red', alpha=0.2)"
   ]
  },
  {
   "cell_type": "code",
   "execution_count": 12,
   "metadata": {},
   "outputs": [
    {
     "name": "stdout",
     "output_type": "stream",
     "text": [
      "[ 3878.15335   5057.035975]\n"
     ]
    },
    {
     "data": {
      "text/plain": [
       "<matplotlib.lines.Line2D at 0x1c1e4f2d30>"
      ]
     },
     "execution_count": 12,
     "metadata": {},
     "output_type": "execute_result"
    }
   ],
   "source": [
    "plt.figure(figsize=(16,6))\n",
    "_ = plt.hist(bootstrap_intercepts,  edgecolor='black', linewidth=1.2)\n",
    "_ = plt.title(\"Distribution of intercepts\")\n",
    "\n",
    "con_interval = np.percentile(bootstrap_intercepts, [2.5, 97.5])\n",
    "print(con_interval)\n",
    "plt.axvline(con_interval[0], color=\"red\")\n",
    "plt.axvline(con_interval[1], color=\"red\")"
   ]
  },
  {
   "cell_type": "code",
   "execution_count": 13,
   "metadata": {},
   "outputs": [
    {
     "name": "stdout",
     "output_type": "stream",
     "text": [
      "[-692.67235 -484.48305]\n"
     ]
    },
    {
     "data": {
      "text/plain": [
       "<matplotlib.lines.Line2D at 0x1c1e5124a8>"
      ]
     },
     "execution_count": 13,
     "metadata": {},
     "output_type": "execute_result"
    }
   ],
   "source": [
    "plt.figure(figsize=(16,6))\n",
    "_ = plt.hist(bootstrap_slopes,  edgecolor='black', linewidth=1.2)\n",
    "_ = plt.title(\"Distribution of intercepts\")\n",
    "\n",
    "con_interval = np.percentile(bootstrap_slopes, [2.5, 97.5])\n",
    "print(con_interval)\n",
    "plt.axvline(con_interval[0], color=\"red\")\n",
    "plt.axvline(con_interval[1], color=\"red\")"
   ]
  },
  {
   "cell_type": "markdown",
   "metadata": {},
   "source": [
    "## Multiple Linear Regression\n",
    "We use linear regression to determine a general model about how one explanatory variable impacts a response variable, however it is often the case that many different explanatory variables can contribute to the response. To try and model this behavior we use multiple linear regression.\n",
    "\n",
    "Multiple linear regression (MLR) tries to find a model of a linear relationship between the response variable and the explanatory variables. Generally, the more explanatory variables that can be added to the regression model, the more informed the model is considered to be.\n",
    "\n",
    "For the examples in this section, we will be using data reporting the amount of dollars a company spent on TV, radio, and newspaper advertising, and what the company made in sales, over some time period. We want to find to what extent spending on each type of advertising impacts sales.\n"
   ]
  },
  {
   "cell_type": "code",
   "execution_count": 11,
   "metadata": {
    "collapsed": true
   },
   "outputs": [],
   "source": [
    "import pandas as pd\n",
    "import statsmodels.formula.api as sm\n",
    "advertising = pd.read_csv('data/Advertising.csv', usecols=[1,2,3,4])"
   ]
  },
  {
   "cell_type": "markdown",
   "metadata": {},
   "source": [
    "### The Naive Approach to Multiple Linear Regression\n",
    "The naive way of preforming a multiple linear regression is to build independent linear regressions for each explanatory variable, and then to combine the results from each.\n",
    "\n",
    "Let's look at the linear regressions of TV, radio, and newspaper advertising on sales individually:"
   ]
  },
  {
   "cell_type": "code",
   "execution_count": 12,
   "metadata": {},
   "outputs": [
    {
     "data": {
      "text/html": [
       "<table class=\"simpletable\">\n",
       "<tr>\n",
       "      <td></td>         <th>coef</th>     <th>std err</th>      <th>t</th>      <th>P>|t|</th>  <th>[0.025</th>    <th>0.975]</th>  \n",
       "</tr>\n",
       "<tr>\n",
       "  <th>Intercept</th> <td>    7.0326</td> <td>    0.458</td> <td>   15.360</td> <td> 0.000</td> <td>    6.130</td> <td>    7.935</td>\n",
       "</tr>\n",
       "<tr>\n",
       "  <th>TV</th>        <td>    0.0475</td> <td>    0.003</td> <td>   17.668</td> <td> 0.000</td> <td>    0.042</td> <td>    0.053</td>\n",
       "</tr>\n",
       "</table>"
      ],
      "text/plain": [
       "<class 'statsmodels.iolib.table.SimpleTable'>"
      ]
     },
     "execution_count": 12,
     "metadata": {},
     "output_type": "execute_result"
    }
   ],
   "source": [
    "est = sm.ols('sales ~ TV', advertising).fit()\n",
    "est.summary().tables[1]"
   ]
  },
  {
   "cell_type": "code",
   "execution_count": 13,
   "metadata": {},
   "outputs": [
    {
     "data": {
      "text/html": [
       "<table class=\"simpletable\">\n",
       "<tr>\n",
       "      <td></td>         <th>coef</th>     <th>std err</th>      <th>t</th>      <th>P>|t|</th>  <th>[0.025</th>    <th>0.975]</th>  \n",
       "</tr>\n",
       "<tr>\n",
       "  <th>Intercept</th> <td>    9.3116</td> <td>    0.563</td> <td>   16.542</td> <td> 0.000</td> <td>    8.202</td> <td>   10.422</td>\n",
       "</tr>\n",
       "<tr>\n",
       "  <th>radio</th>     <td>    0.2025</td> <td>    0.020</td> <td>    9.921</td> <td> 0.000</td> <td>    0.162</td> <td>    0.243</td>\n",
       "</tr>\n",
       "</table>"
      ],
      "text/plain": [
       "<class 'statsmodels.iolib.table.SimpleTable'>"
      ]
     },
     "execution_count": 13,
     "metadata": {},
     "output_type": "execute_result"
    }
   ],
   "source": [
    "est = sm.ols('sales ~ radio', advertising).fit()\n",
    "est.summary().tables[1]"
   ]
  },
  {
   "cell_type": "code",
   "execution_count": 14,
   "metadata": {},
   "outputs": [
    {
     "data": {
      "text/html": [
       "<table class=\"simpletable\">\n",
       "<tr>\n",
       "      <td></td>         <th>coef</th>     <th>std err</th>      <th>t</th>      <th>P>|t|</th>  <th>[0.025</th>    <th>0.975]</th>  \n",
       "</tr>\n",
       "<tr>\n",
       "  <th>Intercept</th> <td>   12.3514</td> <td>    0.621</td> <td>   19.876</td> <td> 0.000</td> <td>   11.126</td> <td>   13.577</td>\n",
       "</tr>\n",
       "<tr>\n",
       "  <th>newspaper</th> <td>    0.0547</td> <td>    0.017</td> <td>    3.300</td> <td> 0.001</td> <td>    0.022</td> <td>    0.087</td>\n",
       "</tr>\n",
       "</table>"
      ],
      "text/plain": [
       "<class 'statsmodels.iolib.table.SimpleTable'>"
      ]
     },
     "execution_count": 14,
     "metadata": {},
     "output_type": "execute_result"
    }
   ],
   "source": [
    "est = sm.ols('sales ~ newspaper', advertising).fit()\n",
    "est.summary().tables[1]"
   ]
  },
  {
   "cell_type": "markdown",
   "metadata": {},
   "source": [
    "We can see that for each of our explanatory variables, our linear regression predicts a significant effect on sales.\n",
    "\n",
    "However, now that we have our individual linear regressions, we run into some problems with this naive approach. Firstly, we have no clear-cut way of combining each regression. Secondly, we have no way of accounting for one explanatory variable correlating with another which can over or understate the relationship between the response variable and a specific explanatory variable."
   ]
  },
  {
   "cell_type": "markdown",
   "metadata": {},
   "source": [
    "### Approaching Multiple Linear Regression\n",
    "To begin with, in order to perform a multiple linear regression we rewrite our linear regression equation to account for all variables:\n",
    "\n",
    "$$\n",
    "y = \\beta_0 + \\beta_1 x_1 + \\beta_2 x_2 + ... + \\beta_p x_p + \\epsilon\n",
    "$$\n",
    "\n",
    "For our new equation, $p$ is the number of paramaters (explanatory variables) in the model and $\\beta_i$ is the average effect on $y$ for a unit increase in the predictor $x_i$, holding all other values constant. That is to say, if we increase the value of $x_i$ by one unit, we expect to see a change in the value of $y$ by the amount of $\\beta_i$.\n",
    "\n",
    "The general approach to multiple linear regression is shown in the following image. For a regression of radio and TV advertising on sales, we arrange the data in n-dimensional space (3 dimensions in this case) then try to find the hyperplane that best fits the predictors to the response variable. The values of $\\beta_i$ that produce this hyperplane are what our regression reports to us.\n",
    "\n",
    "<img src=\"images/plane.png\">\n"
   ]
  },
  {
   "cell_type": "markdown",
   "metadata": {},
   "source": [
    "### Using Multiple Linear Regression\n",
    "We can use stats model to compute a MLR on our example data. We rewrite our multiple linear regression equation to match the parameters we want to investigate as follows:\n",
    "\n",
    "$$\n",
    "sales = \\beta_0 ~~+~~ \\beta_1 \\times \\text{TV_budget} ~~+~~ \\beta_2 \\times \\text{radio_budget} ~~+~~\\beta_3 \\times \\text{newspaper_budget} ~~+~~ \\epsilon\n",
    "$$"
   ]
  },
  {
   "cell_type": "code",
   "execution_count": 15,
   "metadata": {},
   "outputs": [
    {
     "data": {
      "text/html": [
       "<table class=\"simpletable\">\n",
       "<tr>\n",
       "      <td></td>         <th>coef</th>     <th>std err</th>      <th>t</th>      <th>P>|t|</th>  <th>[0.025</th>    <th>0.975]</th>  \n",
       "</tr>\n",
       "<tr>\n",
       "  <th>Intercept</th> <td>    2.9389</td> <td>    0.312</td> <td>    9.422</td> <td> 0.000</td> <td>    2.324</td> <td>    3.554</td>\n",
       "</tr>\n",
       "<tr>\n",
       "  <th>TV</th>        <td>    0.0458</td> <td>    0.001</td> <td>   32.809</td> <td> 0.000</td> <td>    0.043</td> <td>    0.049</td>\n",
       "</tr>\n",
       "<tr>\n",
       "  <th>radio</th>     <td>    0.1885</td> <td>    0.009</td> <td>   21.893</td> <td> 0.000</td> <td>    0.172</td> <td>    0.206</td>\n",
       "</tr>\n",
       "<tr>\n",
       "  <th>newspaper</th> <td>   -0.0010</td> <td>    0.006</td> <td>   -0.177</td> <td> 0.860</td> <td>   -0.013</td> <td>    0.011</td>\n",
       "</tr>\n",
       "</table>"
      ],
      "text/plain": [
       "<class 'statsmodels.iolib.table.SimpleTable'>"
      ]
     },
     "execution_count": 15,
     "metadata": {},
     "output_type": "execute_result"
    }
   ],
   "source": [
    "est = sm.ols('sales ~ TV + radio + newspaper', advertising).fit()\n",
    "est.summary().tables[1]"
   ]
  },
  {
   "cell_type": "markdown",
   "metadata": {},
   "source": [
    "### Interpreting the Results of the Regression\n",
    "We have to be able to interpret the results of our regression to get any meaning from it. The 'coef' column contains the values of $\\beta_i$ for each rows' explanatory variable $x_i$ from our regression equation. Using this we can write out our regression equation as follows:\n",
    "\n",
    "$$\n",
    "sales = 2.9389 ~~+~~ 0.0458 \\times \\text{TV_budget} ~~+~~ 0.1185 \\times \\text{radio_budget} ~~+~~-0.0010 \\times \\text{newspaper_budget} ~~+~~ \\epsilon\n",
    "$$\n",
    "\n",
    "This equation tells us that for each additional \\\\$1000 spent on TV advertising, we expect on average, an increase in sales of 45 units, and for each additional \\\\$1000 spent on radio advertising, we expect on average, an increase in sales of 188 units. Since the p value for both of these variables is low (near zero in fact) we can assume that their effects on sales is significant to the model.\n",
    "\n",
    "Further we can assume that newspaper spending is not significant in our model and thusly does not contribute to it. This is supported by the newspaper parameter's very high p value of 0.86. This means it is quite likely that any effect on sales from newspaper advertising is purely from random noise, which allows us to remove it from our model entirely."
   ]
  },
  {
   "cell_type": "markdown",
   "metadata": {},
   "source": [
    "### Interaction\n",
    "The question then becomes \"why was newspaper advertising insignificant on sales in the MLR model when it had a significant effect in the simple linear regression model?\". Recall that in the simple linear regression, newspaper advertising was predicted to have an effect of 0.0547 with a p value of 0.001. To explain why in our multiple linear regression this effect dropped to zero, we need to look at the correlation between the variables we used."
   ]
  },
  {
   "cell_type": "code",
   "execution_count": 16,
   "metadata": {},
   "outputs": [
    {
     "data": {
      "text/html": [
       "<div>\n",
       "<style scoped>\n",
       "    .dataframe tbody tr th:only-of-type {\n",
       "        vertical-align: middle;\n",
       "    }\n",
       "\n",
       "    .dataframe tbody tr th {\n",
       "        vertical-align: top;\n",
       "    }\n",
       "\n",
       "    .dataframe thead th {\n",
       "        text-align: right;\n",
       "    }\n",
       "</style>\n",
       "<table border=\"1\" class=\"dataframe\">\n",
       "  <thead>\n",
       "    <tr style=\"text-align: right;\">\n",
       "      <th></th>\n",
       "      <th>TV</th>\n",
       "      <th>radio</th>\n",
       "      <th>newspaper</th>\n",
       "      <th>sales</th>\n",
       "    </tr>\n",
       "  </thead>\n",
       "  <tbody>\n",
       "    <tr>\n",
       "      <th>TV</th>\n",
       "      <td>1.000000</td>\n",
       "      <td>0.054809</td>\n",
       "      <td>0.056648</td>\n",
       "      <td>0.782224</td>\n",
       "    </tr>\n",
       "    <tr>\n",
       "      <th>radio</th>\n",
       "      <td>0.054809</td>\n",
       "      <td>1.000000</td>\n",
       "      <td>0.354104</td>\n",
       "      <td>0.576223</td>\n",
       "    </tr>\n",
       "    <tr>\n",
       "      <th>newspaper</th>\n",
       "      <td>0.056648</td>\n",
       "      <td>0.354104</td>\n",
       "      <td>1.000000</td>\n",
       "      <td>0.228299</td>\n",
       "    </tr>\n",
       "    <tr>\n",
       "      <th>sales</th>\n",
       "      <td>0.782224</td>\n",
       "      <td>0.576223</td>\n",
       "      <td>0.228299</td>\n",
       "      <td>1.000000</td>\n",
       "    </tr>\n",
       "  </tbody>\n",
       "</table>\n",
       "</div>"
      ],
      "text/plain": [
       "                 TV     radio  newspaper     sales\n",
       "TV         1.000000  0.054809   0.056648  0.782224\n",
       "radio      0.054809  1.000000   0.354104  0.576223\n",
       "newspaper  0.056648  0.354104   1.000000  0.228299\n",
       "sales      0.782224  0.576223   0.228299  1.000000"
      ]
     },
     "execution_count": 16,
     "metadata": {},
     "output_type": "execute_result"
    }
   ],
   "source": [
    "advertising.corr()"
   ]
  },
  {
   "cell_type": "markdown",
   "metadata": {},
   "source": [
    "As we can see, the correlation between radio advertising and newspaper advertising is about 0.35. This positive correlation indicates that in some cases, spending on radio advertising is accompanied by spending on newspaper advertising. This leads to a series of events that explains newspaper's perceived significance in the simple linear regression.\n",
    "\n",
    "First, radio advertising increases leading to increased sales. Second, since radio advertising and newspaper advertising are correlated, newspaper advertising also increases. Then finally, since newspaper advertising and sales both increased, we observe that newspaper advertising increased sales despite the fact that radio advertising was the actual cause of the increase.\n",
    "\n",
    "Our simple linear regression model sees this chain of events and cannot pick out the contribution to sales by radio advertising from newspaper advertising by itself, so it reports a significant relationship between newspaper advertising and sales. Our multiple linear regression model is able to take radio advertising's effect on sales out of newspaper advertising's effect on sales revealing that newspaper ads do not have a significant effect on sales."
   ]
  },
  {
   "cell_type": "markdown",
   "metadata": {},
   "source": [
    "### Important Concepts to Explore\n",
    "Multiple linear regression is a powerful tool, but it is also accompanied by its share of weaknesses. Multiple linear regression can account for dozens or more predictors (explanatory variables). This means that we can create more robust models than a simple linear regression, however this also means that, as more variables are added to the model, the harder it will become to explain the model, and the harder it will become to account for the correlation between each individual predictor.\n",
    "\n",
    "Further, if we introduce explanatory variables to the model that do not actually have a significant effect on the response variable, either due to the nature of the variable or its correlation with another variable, we can essentially spend time learning \"the wrong thing\". \n",
    "\n",
    "Because of these two concepts and their potential impacts on the model itself, determining the optimal group of explanatory variables is no simple task. There is no definitive right way to determine arguably the most important aspect of the model itself.\n",
    "<br><br>\n",
    "<center>\n",
    "\"Identifying the best subset among many variables to include in a model – is arguably the hardest part of model building.\" - <a href=\"https://link.springer.com/article/10.1057/jt.2009.26\">Bruce Ratner</a>\n",
    "</center>\n",
    "\n",
    "#### Further Reading on MLR\n",
    "&nbsp;&nbsp;&nbsp;&nbsp;<a href=\"https://www.investopedia.com/terms/m/mlr.asp\" target=\"_blank\">Multiple Linear Regression – MLR Definition</a>\n",
    "\n",
    "&nbsp;&nbsp;&nbsp;&nbsp;<a href=\"https://www-bcf.usc.edu/~gareth/ISL/ISLR%20Seventh%20Printing.pdf#page=85\" target=\"_blank\">An Introduction to Statistical Learning with Applications in R</a>\n"
   ]
  },
  {
   "cell_type": "markdown",
   "metadata": {},
   "source": [
    "### Non Linear Regression"
   ]
  },
  {
   "cell_type": "markdown",
   "metadata": {},
   "source": [
    "Linear Regression is a useful tool to predit linear relationships, but actual underlying models are rarely linear. However, this doesn't mean that linear regression is useless. In fact, assuming linearity is often good enough for a problem you are trying to solve. \n",
    "\n",
    "For a simple example, say you are trying to calculate your company's predicted sales for the upcoming year. The previous year's sales were \\\\$10,000,000, an increase of \\\\$50,000 from the previous year. The year before that had an increase of \\\\$46,000, and decreased \\\\$22,000 for the year before that one, and so on. It is possible to create a model to predict next year's sales within a range of a few thousands, but is that really necessary? A linear model that is accurate within ten or twenty thousand is often good enough. When you have sales of $10,000,000, being off by a few thousand or ten thousand, in other words 0.01\\% or 0.01\\%,  does not make much of a difference in the grand scheme of things.\n",
    "\n",
    "Often times it is a good idea to create a simple model to interpret before putting more work into improving that model. Taking the previous example, say instead of next year's sales, you need to predict the sales for the next 20 years. If the underlying model was in fact not linear, then the linear model that was \"good enough\" for the next year, may have a large margin of error 20 years down the line. At this point, exploring non-linear models might be a good idea. The main idea is to always be aware of diminishing returns when improving your model, especially with big data.\n",
    "\n"
   ]
  },
  {
   "cell_type": "markdown",
   "metadata": {},
   "source": [
    "### The Telltales of Non-linearity"
   ]
  },
  {
   "cell_type": "markdown",
   "metadata": {},
   "source": [
    "How do you determine if your data is non-linear? Sometimes it is best to just visualize the data (if you can) and see if it is linear or not. \n",
    "\n",
    "For example if the data follows:$$y = 30 -0.5 x +0.005 x^2 + \\epsilon$$"
   ]
  },
  {
   "cell_type": "code",
   "execution_count": 7,
   "metadata": {},
   "outputs": [
    {
     "data": {
      "text/plain": [
       "<matplotlib.collections.PathCollection at 0x2375e88ecf8>"
      ]
     },
     "execution_count": 7,
     "metadata": {},
     "output_type": "execute_result"
    },
    {
     "data": {
      "image/png": "[encoded data removed]",
      "text/plain": [
       "<Figure size 1152x432 with 1 Axes>"
      ]
     },
     "metadata": {
      "needs_background": "light"
     },
     "output_type": "display_data"
    }
   ],
   "source": [
    "plt.figure(figsize=(16,6))\n",
    "\n",
    "x = np.linspace(0,100, 200)\n",
    "errors = np.random.normal(0,3, size=200)\n",
    "y = 30 + (-0.3 * x)+ (0.005*x**2) +  errors\n",
    "plt.scatter(x,y)"
   ]
  },
  {
   "cell_type": "markdown",
   "metadata": {},
   "source": [
    "We can clearly see from the plot that the data is non-linear.\n",
    "\n",
    "Another way to determine non-linearity is by looking at the error terms."
   ]
  },
  {
   "cell_type": "code",
   "execution_count": 6,
   "metadata": {},
   "outputs": [
    {
     "data": {
      "text/plain": [
       "Text(0.5, 1.0, 'Residuals plot')"
      ]
     },
     "execution_count": 6,
     "metadata": {},
     "output_type": "execute_result"
    },
    {
     "data": {
      "image/png": "[encoded data removed]",
      "text/plain": [
       "<Figure size 1152x432 with 2 Axes>"
      ]
     },
     "metadata": {
      "needs_background": "light"
     },
     "output_type": "display_data"
    }
   ],
   "source": [
    "lm = linregress(x, y)\n",
    "\n",
    "plt.figure(figsize=(16,6))\n",
    "\n",
    "plt.subplot(1,2,1)\n",
    "plt.scatter(x, y, alpha=0.3)\n",
    "plt.plot(x, lm.intercept + lm.slope * x, color='r', linewidth=4)\n",
    "plt.title(\"Data and linear fit\")\n",
    "\n",
    "RSS_vals = []\n",
    "for (x_i, y_i) in zip(x,y):\n",
    "    y_hat = lm.intercept + lm.slope * x_i \n",
    "    RSS_vals.append(y_i - y_hat)\n",
    "\n",
    "plt.subplot(1,2,2)\n",
    "  \n",
    "plt.scatter(x, RSS_vals)\n",
    "plt.title(\"Residuals plot\")"
   ]
  },
  {
   "cell_type": "markdown",
   "metadata": {},
   "source": [
    "For a linear model, finding a regression line would produce error terms that are independently and identically distributed (i.i.d.). In other words, the error $\\epsilon$ is similar to a normal distribution $\\mathcal{N}(\\mu,\\sigma)$. However, from the Residuals plot above we can see that that is not the case. Our linear fits the data better near the middle, but has a majority of larger errors near the tail-ends. This implies that the data is not linear."
   ]
  },
  {
   "cell_type": "markdown",
   "metadata": {},
   "source": [
    "### Nearest Neighbor Regression"
   ]
  },
  {
   "cell_type": "code",
   "execution_count": 10,
   "metadata": {},
   "outputs": [
    {
     "data": {
      "text/plain": [
       "<matplotlib.collections.PathCollection at 0x1f929779860>"
      ]
     },
     "execution_count": 10,
     "metadata": {},
     "output_type": "execute_result"
    },
    {
     "data": {
      "image/png": "[encoded data removed]",
      "text/plain": [
       "<Figure size 1152x432 with 1 Axes>"
      ]
     },
     "metadata": {
      "needs_background": "light"
     },
     "output_type": "display_data"
    }
   ],
   "source": [
    "plt.figure(figsize=(16,6))\n",
    "\n",
    "x = np.linspace(0,100, 200)\n",
    "errors = np.random.normal(0,3, size=200)\n",
    "y = 30 + (-0.3 * x)+ (0.005*x**2) +  errors\n",
    "plt.scatter(x,y)"
   ]
  },
  {
   "cell_type": "markdown",
   "metadata": {},
   "source": [
    "In the case that the data is non-linear, the nearest neighbors method can be used. In this method, the model is equal to the average of the $k$ nearest points, the value of $k$ determines the number of neighbors. This regression can be used in the data above because there is enough data to get a relatively accurate model. As the plot below shows, the red dots represent the neighbors closest to $x = 70$."
   ]
  },
  {
   "cell_type": "code",
   "execution_count": 17,
   "metadata": {},
   "outputs": [
    {
     "data": {
      "text/plain": [
       "<matplotlib.collections.PathCollection at 0x1f92a73c828>"
      ]
     },
     "execution_count": 17,
     "metadata": {},
     "output_type": "execute_result"
    },
    {
     "data": {
      "image/png": "[encoded data removed]",
      "text/plain": [
       "<Figure size 1152x432 with 1 Axes>"
      ]
     },
     "metadata": {
      "needs_background": "light"
     },
     "output_type": "display_data"
    }
   ],
   "source": [
    "plt.figure(figsize=(16,6))\n",
    "\n",
    "pos = np.searchsorted(x, 70)\n",
    "neighbors = np.arange(pos-5, pos+5)\n",
    "\n",
    "plt.scatter(x, y, alpha=0.3)\n",
    "plt.scatter(x[neighbors], y[neighbors], color=\"red\")"
   ]
  },
  {
   "cell_type": "code",
   "execution_count": 18,
   "metadata": {},
   "outputs": [
    {
     "data": {
      "text/plain": [
       "[<matplotlib.lines.Line2D at 0x1f92ae1be10>]"
      ]
     },
     "execution_count": 18,
     "metadata": {},
     "output_type": "execute_result"
    },
    {
     "data": {
      "image/png": "[encoded data removed]",
      "text/plain": [
       "<Figure size 1152x432 with 1 Axes>"
      ]
     },
     "metadata": {
      "needs_background": "light"
     },
     "output_type": "display_data"
    }
   ],
   "source": [
    "plt.figure(figsize=(16,6))\n",
    "\n",
    "reg_line = []\n",
    "for i in x[4:-4]:\n",
    "    pos = pos = np.searchsorted(x, i)\n",
    "    neighbors = np.arange(pos-5, pos+5)\n",
    "    reg_line.append(y[neighbors].mean())\n",
    "\n",
    "plt.scatter(x, y, alpha=0.3)\n",
    "plt.plot(x[4:-4], reg_line, color=\"red\") "
   ]
  },
  {
   "cell_type": "markdown",
   "metadata": {},
   "source": [
    "Taking the average the nearest neighbors of $x$ gives us the plot above, which shows a pretty accurate regression and represents the trend of the data fairly well. However, this is not always the case. There are instances where the Nearest Neighbor method is not recommended; for example, if there's too much data. This method should not be used when there are too many independent variables or predictors. Another case where it's not recommended to use this method is with high dimensional data because distances between data matters less, rendering this method useless. Lastly, the nearest neighbor method relies on the points around each $x$ point, so the value of each model $x$ point is highly affected by outliers."
   ]
  }
 ],
 "metadata": {
  "kernelspec": {
   "display_name": "Python 3",
   "language": "python",
   "name": "python3"
  },
  "language_info": {
   "codemirror_mode": {
    "name": "ipython",
    "version": 3
   },
   "file_extension": ".py",
   "mimetype": "text/x-python",
   "name": "python",
   "nbconvert_exporter": "python",
   "pygments_lexer": "ipython3",
   "version": "3.6.3"
  }
 },
 "nbformat": 4,
 "nbformat_minor": 2
}
